{
  "cells": [
    {
      "cell_type": "code",
      "execution_count": 61,
      "metadata": {
        "colab": {
          "base_uri": "https://localhost:8080/"
        },
        "id": "iqfXfgbwtbGm",
        "outputId": "46cc8d78-6094-41d6-f96c-f4abd47219b9"
      },
      "outputs": [
        {
          "name": "stdout",
          "output_type": "stream",
          "text": [
            "Requirement already satisfied: shap in /Users/sudhanshu/anaconda3/lib/python3.11/site-packages (0.45.1)\n",
            "Requirement already satisfied: numpy in /Users/sudhanshu/anaconda3/lib/python3.11/site-packages (from shap) (1.24.4)\n",
            "Requirement already satisfied: scipy in /Users/sudhanshu/anaconda3/lib/python3.11/site-packages (from shap) (1.11.1)\n",
            "Requirement already satisfied: scikit-learn in /Users/sudhanshu/anaconda3/lib/python3.11/site-packages (from shap) (1.3.0)\n",
            "Requirement already satisfied: pandas in /Users/sudhanshu/anaconda3/lib/python3.11/site-packages (from shap) (2.0.3)\n",
            "Requirement already satisfied: tqdm>=4.27.0 in /Users/sudhanshu/anaconda3/lib/python3.11/site-packages (from shap) (4.65.0)\n",
            "Requirement already satisfied: packaging>20.9 in /Users/sudhanshu/anaconda3/lib/python3.11/site-packages (from shap) (23.1)\n",
            "Requirement already satisfied: slicer==0.0.8 in /Users/sudhanshu/anaconda3/lib/python3.11/site-packages (from shap) (0.0.8)\n",
            "Requirement already satisfied: numba in /Users/sudhanshu/anaconda3/lib/python3.11/site-packages (from shap) (0.57.1)\n",
            "Requirement already satisfied: cloudpickle in /Users/sudhanshu/anaconda3/lib/python3.11/site-packages (from shap) (2.2.1)\n",
            "Requirement already satisfied: llvmlite<0.41,>=0.40.0dev0 in /Users/sudhanshu/anaconda3/lib/python3.11/site-packages (from numba->shap) (0.40.0)\n",
            "Requirement already satisfied: python-dateutil>=2.8.2 in /Users/sudhanshu/anaconda3/lib/python3.11/site-packages (from pandas->shap) (2.8.2)\n",
            "Requirement already satisfied: pytz>=2020.1 in /Users/sudhanshu/anaconda3/lib/python3.11/site-packages (from pandas->shap) (2023.3.post1)\n",
            "Requirement already satisfied: tzdata>=2022.1 in /Users/sudhanshu/anaconda3/lib/python3.11/site-packages (from pandas->shap) (2023.3)\n",
            "Requirement already satisfied: joblib>=1.1.1 in /Users/sudhanshu/anaconda3/lib/python3.11/site-packages (from scikit-learn->shap) (1.2.0)\n",
            "Requirement already satisfied: threadpoolctl>=2.0.0 in /Users/sudhanshu/anaconda3/lib/python3.11/site-packages (from scikit-learn->shap) (2.2.0)\n",
            "Requirement already satisfied: six>=1.5 in /Users/sudhanshu/anaconda3/lib/python3.11/site-packages (from python-dateutil>=2.8.2->pandas->shap) (1.16.0)\n"
          ]
        }
      ],
      "source": [
        "!pip install shap"
      ]
    },
    {
      "cell_type": "code",
      "execution_count": 62,
      "metadata": {
        "id": "knW5pofhswye"
      },
      "outputs": [],
      "source": [
        "import numpy as np\n",
        "import torch\n",
        "from torch import nn, optim\n",
        "from torch.nn import functional as F\n",
        "from torchvision import datasets, transforms\n",
        "\n",
        "import shap"
      ]
    },
    {
      "cell_type": "code",
      "execution_count": 63,
      "metadata": {
        "colab": {
          "base_uri": "https://localhost:8080/"
        },
        "id": "cR4V_4d3sxRc",
        "outputId": "19ab37a4-962e-47e5-b4da-5f4fb299c753"
      },
      "outputs": [
        {
          "name": "stdout",
          "output_type": "stream",
          "text": [
            "<torch.utils.data.dataloader.DataLoader object at 0x177e2d1d0>\n",
            "Train Epoch: 1 [0/60000 (0%)]\tLoss: 2.306609\n",
            "Train Epoch: 1 [12800/60000 (21%)]\tLoss: 2.238223\n",
            "Train Epoch: 1 [25600/60000 (43%)]\tLoss: 1.578866\n",
            "Train Epoch: 1 [38400/60000 (64%)]\tLoss: 0.971226\n",
            "Train Epoch: 1 [51200/60000 (85%)]\tLoss: 0.765426\n",
            "test loader shape: 79\n",
            "\n",
            "Test set: Average loss: 0.0046, Accuracy: 9008/10000 (90%)\n",
            "\n",
            "Train Epoch: 2 [0/60000 (0%)]\tLoss: 0.695915\n",
            "Train Epoch: 2 [12800/60000 (21%)]\tLoss: 0.573319\n",
            "Train Epoch: 2 [25600/60000 (43%)]\tLoss: 0.638106\n",
            "Train Epoch: 2 [38400/60000 (64%)]\tLoss: 0.462662\n",
            "Train Epoch: 2 [51200/60000 (85%)]\tLoss: 0.518821\n",
            "test loader shape: 79\n",
            "\n",
            "Test set: Average loss: 0.0026, Accuracy: 9368/10000 (94%)\n",
            "\n"
          ]
        }
      ],
      "source": [
        "batch_size = 128\n",
        "num_epochs = 2\n",
        "device = torch.device(\"cpu\")\n",
        "\n",
        "\n",
        "class Net(nn.Module):\n",
        "    def __init__(self):\n",
        "        super().__init__()\n",
        "\n",
        "        self.conv_layers = nn.Sequential(\n",
        "            nn.Conv2d(1, 10, kernel_size=5),\n",
        "            nn.MaxPool2d(2),\n",
        "            nn.ReLU(),\n",
        "            nn.Conv2d(10, 20, kernel_size=5),\n",
        "            nn.Dropout(),\n",
        "            nn.MaxPool2d(2),\n",
        "            nn.ReLU(),\n",
        "        )\n",
        "        self.fc_layers = nn.Sequential(\n",
        "            nn.Linear(320, 50),\n",
        "            nn.ReLU(),\n",
        "            nn.Dropout(),\n",
        "            nn.Linear(50, 10),\n",
        "            nn.Softmax(dim=1),\n",
        "        )\n",
        "\n",
        "    def forward(self, x):\n",
        "        x = self.conv_layers(x)\n",
        "        x = x.view(-1, 320)\n",
        "        x = self.fc_layers(x)\n",
        "        return x\n",
        "\n",
        "\n",
        "def train(model, device, train_loader, optimizer, epoch):\n",
        "    model.train()\n",
        "    for batch_idx, (data, target) in enumerate(train_loader):\n",
        "        data, target = data.to(device), target.to(device)\n",
        "        optimizer.zero_grad()\n",
        "        output = model(data)\n",
        "        loss = F.nll_loss(output.log(), target)\n",
        "        loss.backward()\n",
        "        optimizer.step()\n",
        "        if batch_idx % 100 == 0:\n",
        "            print(\n",
        "                f\"Train Epoch: {epoch} [{batch_idx * len(data)}/{len(train_loader.dataset)}\"\n",
        "                f\" ({100.0 * batch_idx / len(train_loader):.0f}%)]\"\n",
        "                f\"\\tLoss: {loss.item():.6f}\"\n",
        "            )\n",
        "\n",
        "\n",
        "def test(model, device, test_loader):\n",
        "    model.eval()\n",
        "    test_loss = 0\n",
        "    correct = 0\n",
        "    with torch.no_grad():\n",
        "        print(f\"test loader shape: {len(test_loader)}\")\n",
        "        for data, target in test_loader:\n",
        "           \n",
        "            data, target = data.to(device), target.to(device)\n",
        "            output = model(data)\n",
        "            test_loss += F.nll_loss(output.log(), target).item()  # sum up batch loss\n",
        "            pred = output.max(1, keepdim=True)[\n",
        "                1\n",
        "            ]  # get the index of the max log-probability\n",
        "            correct += pred.eq(target.view_as(pred)).sum().item()\n",
        "\n",
        "    test_loss /= len(test_loader.dataset)\n",
        "    print(\n",
        "        f\"\\nTest set: Average loss: {test_loss:.4f},\"\n",
        "        f\" Accuracy: {correct}/{len(test_loader.dataset)}\"\n",
        "        f\" ({100.0 * correct / len(test_loader.dataset):.0f}%)\\n\"\n",
        "    )\n",
        "\n",
        "# Reference: https://pytorch.org/docs/stable/data.html#iterable-style-datasets\n",
        "train_loader = torch.utils.data.DataLoader(\n",
        "    datasets.MNIST(\n",
        "        \"mnist_data\",\n",
        "        train=True,\n",
        "        download=True,\n",
        "        transform=transforms.Compose([transforms.ToTensor()]),\n",
        "    ),\n",
        "    batch_size=batch_size,\n",
        "    shuffle=True,\n",
        ")\n",
        "\n",
        "print(train_loader)\n",
        "\n",
        "test_loader = torch.utils.data.DataLoader(\n",
        "    datasets.MNIST(\n",
        "        \"mnist_data\", train=False, transform=transforms.Compose([transforms.ToTensor()])\n",
        "    ),\n",
        "    batch_size=batch_size,\n",
        "    shuffle=True,\n",
        ")\n",
        "\n",
        "model = Net().to(device)\n",
        "optimizer = optim.SGD(model.parameters(), lr=0.01, momentum=0.5)\n",
        "\n",
        "for epoch in range(1, num_epochs + 1):\n",
        "    train(model, device, train_loader, optimizer, epoch)\n",
        "    test(model, device, test_loader)"
      ]
    },
    {
      "cell_type": "code",
      "execution_count": 64,
      "metadata": {},
      "outputs": [],
      "source": [
        "def get_shap_values(explainer, test_data):\n",
        "    return explainer.shap_values(test_data)"
      ]
    },
    {
      "cell_type": "code",
      "execution_count": 65,
      "metadata": {
        "colab": {
          "base_uri": "https://localhost:8080/"
        },
        "id": "wDxesrrMs3dy",
        "outputId": "22c46798-e89a-44a0-d344-4396cc390069"
      },
      "outputs": [
        {
          "name": "stdout",
          "output_type": "stream",
          "text": [
            "Shape of images: 2\n",
            "<bound method DeepExplainer.shap_values of <shap.explainers._deep.DeepExplainer object at 0x3583a2c50>>\n"
          ]
        }
      ],
      "source": [
        "# since shuffle=True, this is a random sample of test data\n",
        "batch = next(iter(test_loader))\n",
        "images, _ = batch\n",
        "\n",
        "print(f\"Shape of images: {len(batch)}\")\n",
        "\n",
        "background = images[:100]\n",
        "test_images = images[100:103]\n",
        "\n",
        "o = model(test_images)\n",
        "\n",
        "e = shap.DeepExplainer(model, background)\n",
        "print(e.shap_values)\n",
        "shap_values = e.shap_values(test_images)"
      ]
    },
    {
      "cell_type": "code",
      "execution_count": 66,
      "metadata": {
        "id": "ZFEB-hthtWtD"
      },
      "outputs": [
        {
          "name": "stdout",
          "output_type": "stream",
          "text": [
            "Shap numpy: 10\n",
            "Test numpy: (3, 28, 28, 1)\n"
          ]
        }
      ],
      "source": [
        "shap_numpy = list(np.transpose(shap_values, (4, 0, 2, 3, 1)))\n",
        "print(f\"Shap numpy: {len(shap_numpy)}\")\n",
        "test_numpy = np.swapaxes(np.swapaxes(test_images.numpy(), 1, -1), 1, 2)\n",
        "print(f\"Test numpy: {test_numpy.shape}\")"
      ]
    },
    {
      "cell_type": "code",
      "execution_count": 74,
      "metadata": {
        "colab": {
          "base_uri": "https://localhost:8080/",
          "height": 512
        },
        "id": "_7ylY05Rtf_n",
        "outputId": "179b60fe-5e99-409c-8899-bd43da8366b7"
      },
      "outputs": [
        {
          "data": {
            "image/png": "[encoded data removed]",
            "text/plain": [
              "<Figure size 2000x606.061 with 34 Axes>"
            ]
          },
          "metadata": {},
          "output_type": "display_data"
        }
      ],
      "source": [
        "# plot the feature attributions\n",
        "shap.image_plot(shap_numpy, -test_numpy)"
      ]
    },
    {
      "cell_type": "code",
      "execution_count": 68,
      "metadata": {
        "colab": {
          "base_uri": "https://localhost:8080/"
        },
        "id": "mN0Bag_Etia6",
        "outputId": "e4529096-5d8b-4551-9951-821aae203eac"
      },
      "outputs": [
        {
          "name": "stdout",
          "output_type": "stream",
          "text": [
            "Requirement already satisfied: Flask in /Users/sudhanshu/anaconda3/lib/python3.11/site-packages (2.2.2)\n",
            "Requirement already satisfied: Werkzeug>=2.2.2 in /Users/sudhanshu/anaconda3/lib/python3.11/site-packages (from Flask) (2.2.3)\n",
            "Requirement already satisfied: Jinja2>=3.0 in /Users/sudhanshu/anaconda3/lib/python3.11/site-packages (from Flask) (3.1.2)\n",
            "Requirement already satisfied: itsdangerous>=2.0 in /Users/sudhanshu/anaconda3/lib/python3.11/site-packages (from Flask) (2.0.1)\n",
            "Requirement already satisfied: click>=8.0 in /Users/sudhanshu/anaconda3/lib/python3.11/site-packages (from Flask) (8.0.4)\n",
            "Requirement already satisfied: MarkupSafe>=2.0 in /Users/sudhanshu/anaconda3/lib/python3.11/site-packages (from Jinja2>=3.0->Flask) (2.1.1)\n"
          ]
        }
      ],
      "source": [
        "!pip install Flask"
      ]
    },
    {
      "cell_type": "code",
      "execution_count": 69,
      "metadata": {},
      "outputs": [
        {
          "name": "stdout",
          "output_type": "stream",
          "text": [
            "Requirement already satisfied: flask-cors in /Users/sudhanshu/anaconda3/lib/python3.11/site-packages (4.0.1)\n",
            "Requirement already satisfied: Flask>=0.9 in /Users/sudhanshu/anaconda3/lib/python3.11/site-packages (from flask-cors) (2.2.2)\n",
            "Requirement already satisfied: Werkzeug>=2.2.2 in /Users/sudhanshu/anaconda3/lib/python3.11/site-packages (from Flask>=0.9->flask-cors) (2.2.3)\n",
            "Requirement already satisfied: Jinja2>=3.0 in /Users/sudhanshu/anaconda3/lib/python3.11/site-packages (from Flask>=0.9->flask-cors) (3.1.2)\n",
            "Requirement already satisfied: itsdangerous>=2.0 in /Users/sudhanshu/anaconda3/lib/python3.11/site-packages (from Flask>=0.9->flask-cors) (2.0.1)\n",
            "Requirement already satisfied: click>=8.0 in /Users/sudhanshu/anaconda3/lib/python3.11/site-packages (from Flask>=0.9->flask-cors) (8.0.4)\n",
            "Requirement already satisfied: MarkupSafe>=2.0 in /Users/sudhanshu/anaconda3/lib/python3.11/site-packages (from Jinja2>=3.0->Flask>=0.9->flask-cors) (2.1.1)\n",
            "Requirement already satisfied: pillow in /Users/sudhanshu/anaconda3/lib/python3.11/site-packages (10.0.0)\n"
          ]
        }
      ],
      "source": [
        "!pip install -U flask-cors\n",
        "!pip install pillow "
      ]
    },
    {
      "cell_type": "code",
      "execution_count": 70,
      "metadata": {},
      "outputs": [],
      "source": [
        "import json\n",
        "from json import JSONEncoder\n",
        "import numpy as np\n",
        "class NumpyArrayEncoder(JSONEncoder):\n",
        "    def default(self, obj):\n",
        "        if isinstance(obj, np.ndarray):\n",
        "            return obj.tolist()\n",
        "        return JSONEncoder.default(self, obj)"
      ]
    },
    {
      "cell_type": "code",
      "execution_count": 71,
      "metadata": {
        "id": "nt8CkkvBkViw"
      },
      "outputs": [],
      "source": [
        "from flask import Flask\n",
        "from flask import request, jsonify\n",
        "from flask_cors import CORS\n",
        "\n",
        "from PIL import Image\n",
        "import json\n",
        "import torchvision.transforms as transforms\n",
        "\n",
        "\n",
        "# Define a transform to convert PIL \n",
        "# image to a Torch tensor\n",
        "transform = transforms.Compose([\n",
        "    transforms.PILToTensor()\n",
        "])\n",
        "\n",
        "\n",
        "app = Flask(__name__)\n",
        "CORS(app)\n",
        "\n",
        "# https://rapidapi.com/guides/upload-files-react-axios\n",
        "@app.route('/upload', methods=['GET', 'POST'])\n",
        "def upload_file():\n",
        "    print(f\"Req: {len(request.files)}\")\n",
        "    if request.method == 'POST':\n",
        "        f = request.files['file']\n",
        "        print(f\"Found file: {f}\")\n",
        "\n",
        "        with Image.open(f) as image:\n",
        "\n",
        "            img_tensor = transform(image)\n",
        "            img_tensor = torch.div(img_tensor, 255)\n",
        "            # Reference: https://pytorch.org/docs/stable/generated/torch.Tensor.expand.html\n",
        "            # Reference: https://medium.com/@goelpulkit43/deploy-a-pytorch-convolutional-neural-network-via-rest-api-using-flask-40bf0facd65d\n",
        "            img_tensor = img_tensor.expand(1, 1, 28, 28)\n",
        "            # print the converted Torch tensor\n",
        "            # print(img_tensor)\n",
        "\n",
        "            val = get_shap_values(e, img_tensor)\n",
        "\n",
        "            print(val)\n",
        "            # Reference: https://pynative.com/python-serialize-numpy-ndarray-into-json/\n",
        "            numpyData = {\"array\": val}\n",
        "            encodedNumpyData = json.dumps(numpyData, cls=NumpyArrayEncoder)\n",
        "\n",
        "            # Reference: https://pillow.readthedocs.io/en/stable/handbook/concepts.html\n",
        "            # print(f\"Image mode: {im.mode}\")\n",
        "\n",
        "            \n",
        "\n",
        "    return encodedNumpyData"
      ]
    },
    {
      "cell_type": "code",
      "execution_count": 75,
      "metadata": {
        "colab": {
          "base_uri": "https://localhost:8080/"
        },
        "id": "gP-HKGj9l47y",
        "outputId": "4e690282-36f7-4c61-ccd9-254671e5cdb7"
      },
      "outputs": [
        {
          "name": "stdout",
          "output_type": "stream",
          "text": [
            " * Serving Flask app '__main__'\n",
            " * Debug mode: off\n"
          ]
        },
        {
          "name": "stderr",
          "output_type": "stream",
          "text": [
            "WARNING: This is a development server. Do not use it in a production deployment. Use a production WSGI server instead.\n",
            " * Running on http://127.0.0.1:5000\n",
            "Press CTRL+C to quit\n"
          ]
        }
      ],
      "source": [
        "\n",
        "app.run()"
      ]
    },
    {
      "cell_type": "code",
      "execution_count": null,
      "metadata": {},
      "outputs": [],
      "source": []
    }
  ],
  "metadata": {
    "colab": {
      "provenance": []
    },
    "kernelspec": {
      "display_name": "Python 3",
      "name": "python3"
    },
    "language_info": {
      "codemirror_mode": {
        "name": "ipython",
        "version": 3
      },
      "file_extension": ".py",
      "mimetype": "text/x-python",
      "name": "python",
      "nbconvert_exporter": "python",
      "pygments_lexer": "ipython3",
      "version": "3.11.5"
    }
  },
  "nbformat": 4,
  "nbformat_minor": 0
}
